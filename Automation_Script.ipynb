{
 "cells": [
  {
   "cell_type": "code",
   "execution_count": 45,
   "metadata": {},
   "outputs": [],
   "source": [
    "import pandas as pd\n",
    "import numpy as np\n",
    "import re\n",
    "import itertools\n",
    "import sys\n",
    "from re import finditer\n",
    "\n",
    "def query_yes_no(question, default=\"yes\"):\n",
    "    \"\"\"Ask a yes/no question via raw_input() and return their answer.\n",
    "\n",
    "    \"question\" is a string that is presented to the user.\n",
    "    \"default\" is the presumed answer if the user just hits <Enter>.\n",
    "        It must be \"yes\" (the default), \"no\" or None (meaning\n",
    "        an answer is required of the user).\n",
    "\n",
    "    The \"answer\" return value is True for \"yes\" or False for \"no\".\n",
    "    \"\"\"\n",
    "    valid = {\"yes\": True, \"y\": True, \"ye\": True,\n",
    "             \"no\": False, \"n\": False}\n",
    "    if default is None:\n",
    "        prompt = \" [y/n] \"\n",
    "    elif default == \"yes\":\n",
    "        prompt = \" [Y/n] \"\n",
    "    elif default == \"no\":\n",
    "        prompt = \" [y/N] \"\n",
    "    else:\n",
    "        raise ValueError(\"invalid default answer: '%s'\" % default)\n",
    "\n",
    "    while True:\n",
    "        sys.stdout.write(question + prompt)\n",
    "        choice = input().lower()\n",
    "        if default is not None and choice == '':\n",
    "            return valid[default]\n",
    "        elif choice in valid:\n",
    "            return valid[choice]\n",
    "        else:\n",
    "            sys.stdout.write(\"Please respond with 'yes' or 'no' \"\n",
    "                             \"(or 'y' or 'n').\\n\")"
   ]
  },
  {
   "cell_type": "code",
   "execution_count": 47,
   "metadata": {},
   "outputs": [
    {
     "name": "stdout",
     "output_type": "stream",
     "text": [
      "Path of the Text File: C:\\Users\\austinm\\Documents\\Text_Files\\PDF_Scraper.txt\n"
     ]
    },
    {
     "data": {
      "text/plain": [
       "<function TextIOWrapper.close()>"
      ]
     },
     "execution_count": 47,
     "metadata": {},
     "output_type": "execute_result"
    }
   ],
   "source": [
    "path = input('Path of the Text File: ')\n",
    "\n",
    "copiedText = open(path,'r')\n",
    "data = copiedText.read()\n",
    "copiedText.close"
   ]
  },
  {
   "cell_type": "code",
   "execution_count": 46,
   "metadata": {},
   "outputs": [
    {
     "name": "stdout",
     "output_type": "stream",
     "text": [
      "Path of the Text File: C:\\Users\\austinm\\Documents\\Text_Files\\PDF_Scraper.txt\n"
     ]
    }
   ],
   "source": [
    "dollarMatches = re.findall(\"\\$([0-9]{1,3},([0-9]{3},)*[0-9]{3}|[0-9]+)(.[0-9][0-9])?\", data)\n",
    "emailCurrLineMatches = re.findall(\"([\\w\\d.-]*@[\\w\\d.-]*)\", data)\n",
    "phoneMatches = re.findall(\"\\d{3}.?\\d{3}.?\\d{4}|\\(\\d{3}\\).?\\d{3}.?\\d{4}\", data)\n",
    "\n",
    "type(dollarMatches)\n",
    "for i in range(0, len(dollarMatches)):\n",
    "    dollarMatches[i] = dollarMatches[i][0] + dollarMatches[i][2]\n",
    "\n",
    "phoneFrame = pd.DataFrame(phoneMatches, columns=['Phone'])\n",
    "emailFrame = pd.DataFrame(emailCurrLineMatches, columns=['Email'])\n",
    "dollarFrame = pd.DataFrame(dollarMatches, columns=['Unsecured Claim'])"
   ]
  },
  {
   "cell_type": "code",
   "execution_count": 48,
   "metadata": {},
   "outputs": [],
   "source": [
    "dollar_locations = []\n",
    "for match in finditer(\"\\$([0-9]{1,3},([0-9]{3},)*[0-9]{3}|[0-9]+)(.[0-9][0-9])?\", data):\n",
    "    dollar_locations.append(match.span())"
   ]
  },
  {
   "cell_type": "code",
   "execution_count": 49,
   "metadata": {},
   "outputs": [
    {
     "data": {
      "text/plain": [
       "[(114, 128),\n",
       " (260, 270),\n",
       " (386, 396),\n",
       " (541, 551),\n",
       " (662, 672),\n",
       " (807, 817),\n",
       " (1478, 1488),\n",
       " (1623, 1633),\n",
       " (1741, 1751),\n",
       " (1842, 1852),\n",
       " (1938, 1948),\n",
       " (2065, 2075),\n",
       " (2668, 2677),\n",
       " (2810, 2819),\n",
       " (2967, 2976),\n",
       " (3240, 3249),\n",
       " (3326, 3335),\n",
       " (3438, 3447),\n",
       " (4052, 4061),\n",
       " (4195, 4204)]"
      ]
     },
     "execution_count": 49,
     "metadata": {},
     "output_type": "execute_result"
    }
   ],
   "source": [
    "dollar_locations"
   ]
  },
  {
   "cell_type": "code",
   "execution_count": 36,
   "metadata": {},
   "outputs": [
    {
     "data": {
      "text/plain": [
       "20"
      ]
     },
     "execution_count": 36,
     "metadata": {},
     "output_type": "execute_result"
    }
   ],
   "source": [
    "len(dollar_locations)"
   ]
  },
  {
   "cell_type": "code",
   "execution_count": 42,
   "metadata": {},
   "outputs": [],
   "source": [
    "first_chunk = data[0:dollar_locations[0][1]]\n",
    "dollarMatches = re.findall(\"\\$([0-9]{1,3},([0-9]{3},)*[0-9]{3}|[0-9]+)(.[0-9][0-9])?\", first_chunk)\n",
    "emailCurrLineMatches = re.findall(\"([\\w\\d.-]*@[\\w\\d.-]*)\", first_chunk)\n",
    "phoneMatches = re.findall(\"\\d{3}.?\\d{3}.?\\d{4}|\\(\\d{3}\\).?\\d{3}.?\\d{4}\", first_chunk)\n",
    "if not dollarMatches:\n",
    "    dollarMatches.append('none')\n",
    "if not emailCurrLineMatches:\n",
    "    emailCurrLineMatches.append('none')\n",
    "if not phoneMatches:\n",
    "    phoneMatches.append('none')"
   ]
  },
  {
   "cell_type": "code",
   "execution_count": 43,
   "metadata": {},
   "outputs": [
    {
     "data": {
      "text/plain": [
       "['none']"
      ]
     },
     "execution_count": 43,
     "metadata": {},
     "output_type": "execute_result"
    }
   ],
   "source": [
    "emailCurrLineMatches\n",
    "phoneMatches"
   ]
  },
  {
   "cell_type": "code",
   "execution_count": 50,
   "metadata": {},
   "outputs": [],
   "source": [
    "first_chunk = data[0:dollar_locations[0][1]]\n",
    "dollarMatches = re.findall(\"\\$([0-9]{1,3},([0-9]{3},)*[0-9]{3}|[0-9]+)(.[0-9][0-9])?\", first_chunk)\n",
    "emailCurrLineMatches = re.findall(\"([\\w\\d.-]*@[\\w\\d.-]*)\", first_chunk)\n",
    "phoneMatches = re.findall(\"\\d{3}.?\\d{3}.?\\d{4}|\\(\\d{3}\\).?\\d{3}.?\\d{4}\", first_chunk)\n",
    "if not dollarMatches:\n",
    "    dollarMatches.append('none')\n",
    "if not emailCurrLineMatches:\n",
    "    emailCurrLineMatches.append('none')\n",
    "if not phoneMatches:\n",
    "    phoneMatches.append('none')\n",
    "for i in range(1, len(dollar_locations)):\n",
    "    chunk = data[dollar_locations[i-1][1]:dollar_locations[i][1]]\n",
    "    dollarMatches = re.findall(\"\\$([0-9]{1,3},([0-9]{3},)*[0-9]{3}|[0-9]+)(.[0-9][0-9])?\", chunk)\n",
    "    emailCurrLineMatches = re.findall(\"([\\w\\d.-]*@[\\w\\d.-]*)\", chunk)\n",
    "    phoneMatches = re.findall(\"\\d{3}.?\\d{3}.?\\d{4}|\\(\\d{3}\\).?\\d{3}.?\\d{4}\", chunk)\n",
    "    if not dollarMatches:\n",
    "        dollarMatches.append('none')\n",
    "    if not emailCurrLineMatches:\n",
    "        emailCurrLineMatches.append('none')\n",
    "    if not phoneMatches:\n",
    "        phoneMatches.append('none')"
   ]
  },
  {
   "cell_type": "code",
   "execution_count": 51,
   "metadata": {},
   "outputs": [
    {
     "data": {
      "text/plain": [
       "[('5,702', '', '.11')]"
      ]
     },
     "execution_count": 51,
     "metadata": {},
     "output_type": "execute_result"
    }
   ],
   "source": [
    "dollarMatches"
   ]
  },
  {
   "cell_type": "code",
   "execution_count": 35,
   "metadata": {},
   "outputs": [
    {
     "data": {
      "text/plain": [
       "'\\nNordea Bank Oslo\\nMiddelthunsgate 17\\nPO Box 1166\\nSentrum Oslo NO-0107 Norway\\n+47 2248 5000\\n+47 2248 6668 Legal Fees $82,154.99'"
      ]
     },
     "execution_count": 35,
     "metadata": {},
     "output_type": "execute_result"
    }
   ],
   "source": [
    "data[270:396]"
   ]
  },
  {
   "cell_type": "code",
   "execution_count": 15,
   "metadata": {},
   "outputs": [],
   "source": [
    "def what_data():\n",
    "    leave = False\n",
    "    while leave is False:\n",
    "        dollars = query_yes_no('Get Dollar Values?')\n",
    "        if dollars is True:\n",
    "            dollarFrame.to_clipboard(index=False)\n",
    "            print('Dollar values are on the clipboard.')\n",
    "            phone = query_yes_no('Get Phone Values?')\n",
    "        if dollars is False:\n",
    "            phone = query_yes_no('Get Phone Values?')\n",
    "        if phone is True:\n",
    "            phoneFrame.to_clipboard(index=False)\n",
    "            print('Phone values are on the clipboard.')\n",
    "            email = query_yes_no('Get Email Values?')\n",
    "        if phone is False:\n",
    "            email = query_yes_no('Get Email Values?')\n",
    "        if email is True:\n",
    "            emailFrame.to_clipboard(index=False)\n",
    "            print('Email values are on the clipboard.')\n",
    "            leave = query_yes_no('Exit the program?')\n",
    "        if email is False:\n",
    "            leave = True\n"
   ]
  },
  {
   "cell_type": "code",
   "execution_count": 16,
   "metadata": {},
   "outputs": [
    {
     "data": {
      "text/plain": [
       "<function __main__.what_data()>"
      ]
     },
     "execution_count": 16,
     "metadata": {},
     "output_type": "execute_result"
    }
   ],
   "source": [
    "what_data"
   ]
  }
 ],
 "metadata": {
  "kernelspec": {
   "display_name": "Python 3",
   "language": "python",
   "name": "python3"
  },
  "language_info": {
   "codemirror_mode": {
    "name": "ipython",
    "version": 3
   },
   "file_extension": ".py",
   "mimetype": "text/x-python",
   "name": "python",
   "nbconvert_exporter": "python",
   "pygments_lexer": "ipython3",
   "version": "3.6.5"
  }
 },
 "nbformat": 4,
 "nbformat_minor": 2
}

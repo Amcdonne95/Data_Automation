{
 "cells": [
  {
   "cell_type": "code",
   "execution_count": 40,
   "metadata": {},
   "outputs": [
    {
     "data": {
      "text/plain": [
       "'C:\\\\Users\\\\austinm\\\\Documents\\\\Jupyter_Scripts\\\\Data_Automation'"
      ]
     },
     "execution_count": 40,
     "metadata": {},
     "output_type": "execute_result"
    }
   ],
   "source": [
    "import PyPDF2\n",
    "import pandas as pd\n",
    "import numpy as np\n",
    "import re\n",
    "import os\n",
    "import xlwings\n",
    "import pyperclip\n",
    "import itertools\n",
    "os.getcwd()"
   ]
  },
  {
   "cell_type": "code",
   "execution_count": 2,
   "metadata": {},
   "outputs": [
    {
     "data": {
      "text/html": [
       "<style>.container { width:100% !important; }</style>"
      ],
      "text/plain": [
       "<IPython.core.display.HTML object>"
      ]
     },
     "metadata": {},
     "output_type": "display_data"
    }
   ],
   "source": [
    "pd.set_option('display.max_rows', 200)\n",
    "pd.set_option('display.max_columns', 200)\n",
    "pd.set_option('display.width', 1000)\n",
    "from IPython.core.display import display, HTML\n",
    "display(HTML(\"<style>.container { width:100% !important; }</style>\"))"
   ]
  },
  {
   "cell_type": "code",
   "execution_count": 131,
   "metadata": {},
   "outputs": [
    {
     "name": "stdout",
     "output_type": "stream",
     "text": [
      "Accepted Categories:\n",
      "Phone\n",
      "Fax\n",
      "Email\n"
     ]
    }
   ],
   "source": [
    "print('Accepted Categories:\\nPhone\\nFax\\nEmail')"
   ]
  },
  {
   "cell_type": "code",
   "execution_count": 132,
   "metadata": {},
   "outputs": [
    {
     "name": "stdout",
     "output_type": "stream",
     "text": [
      "What categories are listed and in what order: Email Phone Fax\n"
     ]
    }
   ],
   "source": [
    " categories = input('What categories are listed and in what order: ')"
   ]
  },
  {
   "cell_type": "code",
   "execution_count": null,
   "metadata": {},
   "outputs": [],
   "source": [
    "def initialQuestions():\n",
    "    categories = input('What categories are listed and in what order: ')"
   ]
  },
  {
   "cell_type": "code",
   "execution_count": 129,
   "metadata": {},
   "outputs": [
    {
     "name": "stdout",
     "output_type": "stream",
     "text": [
      "List the order of Email, Phone and Fax: Phone, Fax, Email\n"
     ]
    }
   ],
   "source": [
    "order = input('List the order of Email, Phone and Fax: ')\n",
    "Email:"
   ]
  },
  {
   "cell_type": "code",
   "execution_count": null,
   "metadata": {},
   "outputs": [],
   "source": []
  },
  {
   "cell_type": "code",
   "execution_count": 3,
   "metadata": {},
   "outputs": [],
   "source": [
    "rePhoneNumber = '(\\d{3}.?\\d{3}.?\\d{4})|(\\(\\d{3}\\).?\\d{3}.?\\d{4})'\n",
    "reEmailNextLine = '([\\w\\d-.]*@[\\w\\d-.]*\\n[a-zA-Z.-]*)'#will only work for addresses that have remaining char from @ on the next line\n",
    "reEmailCurrentLine = '([\\w\\d.-]*@[\\w\\d.-]*)'\n",
    "reDollarAmount = '\\$([0-9]{1,3},([0-9]{3},)*[0-9]{3}|[0-9]+)(.[0-9][0-9])?'"
   ]
  },
  {
   "cell_type": "code",
   "execution_count": 59,
   "metadata": {},
   "outputs": [
    {
     "data": {
      "text/plain": [
       "<function TextIOWrapper.close()>"
      ]
     },
     "execution_count": 59,
     "metadata": {},
     "output_type": "execute_result"
    }
   ],
   "source": [
    "copiedText = open(r'copied_text_test.txt','r')\n",
    "data = copiedText.read()\n",
    "copiedText.close"
   ]
  },
  {
   "cell_type": "code",
   "execution_count": 60,
   "metadata": {},
   "outputs": [],
   "source": [
    "dollarMatches = re.findall(\"\\$([0-9]{1,3},([0-9]{3},)*[0-9]{3}|[0-9]+)(.[0-9][0-9])?\", data)\n",
    "#emailMatches = re.findall(\"([\\w\\d.-]*@[\\w\\d.-]*\\n[a-zA-Z.-]*)\", data)\n",
    "#emailCurrLineMatches = re.findall(\"([\\w\\d.-]*@[\\w\\d.-]*)\", data)\n",
    "phoneMatches = re.findall(\"\\d{3}.?\\d{3}.?\\d{4}|\\(\\d{3}\\).?\\d{3}.?\\d{4}\", data)"
   ]
  },
  {
   "cell_type": "code",
   "execution_count": 61,
   "metadata": {},
   "outputs": [],
   "source": [
    "type(dollarMatches)\n",
    "for i in range(0, len(dollarMatches)):\n",
    "    dollarMatches[i] = dollarMatches[i][0] + dollarMatches[i][2]"
   ]
  },
  {
   "cell_type": "code",
   "execution_count": null,
   "metadata": {},
   "outputs": [],
   "source": [
    "for i in range(0, len(emailMatches)):\n",
    "    emailMatches[i] = emailMatches[i].replace('\\n','')"
   ]
  },
  {
   "cell_type": "code",
   "execution_count": 44,
   "metadata": {},
   "outputs": [
    {
     "data": {
      "text/plain": [
       "['rogercr@cccgroupinc.com',\n",
       " 'mhammerlund@stromengineering.com',\n",
       " 'chris.matlosz@noralinc.com',\n",
       " 'Pierre.Parent@worleyparsons.com',\n",
       " 'adam.anderson@tparkerhost.com',\n",
       " 'mickey@rexcoinc.com',\n",
       " 'melectric@corpus.twcbc.com',\n",
       " 'antoine.berghmans@lhoist.com',\n",
       " 'orobinson@austinwhitelime.com',\n",
       " 'Tim_Hillsley@oxy.com',\n",
       " 'eburnett@southtexasvalue.com',\n",
       " 'dave.dennis@cytec.com',\n",
       " 'mike.morton@scisusa.com',\n",
       " 'bgw@spmwd.net',\n",
       " 'ddavis@nalco.com',\n",
       " 'slewis@mmrgrp.com',\n",
       " 'rharrison@ghxinc.com',\n",
       " 'paul.hensley@holtcat.com',\n",
       " 'rlopezceo@yahoo.com',\n",
       " 'james.glattly@genlp.com']"
      ]
     },
     "execution_count": 44,
     "metadata": {},
     "output_type": "execute_result"
    }
   ],
   "source": [
    "emailCurrLineMatches"
   ]
  },
  {
   "cell_type": "code",
   "execution_count": 62,
   "metadata": {},
   "outputs": [],
   "source": [
    "phoneFrame = pd.DataFrame(phoneMatches, columns=['Phone'])\n",
    "#emailFrame = pd.DataFrame(emailCurrLineMatches, columns=['Email'])\n",
    "dollarFrame = pd.DataFrame(dollarMatches, columns=['Unsecured Claim'])"
   ]
  },
  {
   "cell_type": "code",
   "execution_count": 63,
   "metadata": {},
   "outputs": [
    {
     "data": {
      "text/html": [
       "<div>\n",
       "<style scoped>\n",
       "    .dataframe tbody tr th:only-of-type {\n",
       "        vertical-align: middle;\n",
       "    }\n",
       "\n",
       "    .dataframe tbody tr th {\n",
       "        vertical-align: top;\n",
       "    }\n",
       "\n",
       "    .dataframe thead th {\n",
       "        text-align: right;\n",
       "    }\n",
       "</style>\n",
       "<table border=\"1\" class=\"dataframe\">\n",
       "  <thead>\n",
       "    <tr style=\"text-align: right;\">\n",
       "      <th></th>\n",
       "      <th>Unsecured Claim</th>\n",
       "    </tr>\n",
       "  </thead>\n",
       "  <tbody>\n",
       "    <tr>\n",
       "      <th>0</th>\n",
       "      <td>100,734,363</td>\n",
       "    </tr>\n",
       "    <tr>\n",
       "      <th>1</th>\n",
       "      <td>68,483,465</td>\n",
       "    </tr>\n",
       "    <tr>\n",
       "      <th>2</th>\n",
       "      <td>42,744,591</td>\n",
       "    </tr>\n",
       "    <tr>\n",
       "      <th>3</th>\n",
       "      <td>3,862,826</td>\n",
       "    </tr>\n",
       "    <tr>\n",
       "      <th>4</th>\n",
       "      <td>3,105,694</td>\n",
       "    </tr>\n",
       "    <tr>\n",
       "      <th>5</th>\n",
       "      <td>2,973,074</td>\n",
       "    </tr>\n",
       "    <tr>\n",
       "      <th>6</th>\n",
       "      <td>2,444,933</td>\n",
       "    </tr>\n",
       "    <tr>\n",
       "      <th>7</th>\n",
       "      <td>2,214,333</td>\n",
       "    </tr>\n",
       "    <tr>\n",
       "      <th>8</th>\n",
       "      <td>2,147,512</td>\n",
       "    </tr>\n",
       "    <tr>\n",
       "      <th>9</th>\n",
       "      <td>2,086,839</td>\n",
       "    </tr>\n",
       "    <tr>\n",
       "      <th>10</th>\n",
       "      <td>1,843,020</td>\n",
       "    </tr>\n",
       "    <tr>\n",
       "      <th>11</th>\n",
       "      <td>1,592,173</td>\n",
       "    </tr>\n",
       "    <tr>\n",
       "      <th>12</th>\n",
       "      <td>1,503,409</td>\n",
       "    </tr>\n",
       "    <tr>\n",
       "      <th>13</th>\n",
       "      <td>1,467,324</td>\n",
       "    </tr>\n",
       "    <tr>\n",
       "      <th>14</th>\n",
       "      <td>1,390,941</td>\n",
       "    </tr>\n",
       "    <tr>\n",
       "      <th>15</th>\n",
       "      <td>1,382,292</td>\n",
       "    </tr>\n",
       "    <tr>\n",
       "      <th>16</th>\n",
       "      <td>1,299,921</td>\n",
       "    </tr>\n",
       "    <tr>\n",
       "      <th>17</th>\n",
       "      <td>1,167,301</td>\n",
       "    </tr>\n",
       "    <tr>\n",
       "      <th>18</th>\n",
       "      <td>1,165,818</td>\n",
       "    </tr>\n",
       "    <tr>\n",
       "      <th>19</th>\n",
       "      <td>1,068,994</td>\n",
       "    </tr>\n",
       "  </tbody>\n",
       "</table>\n",
       "</div>"
      ],
      "text/plain": [
       "   Unsecured Claim\n",
       "0      100,734,363\n",
       "1       68,483,465\n",
       "2       42,744,591\n",
       "3        3,862,826\n",
       "4        3,105,694\n",
       "5        2,973,074\n",
       "6        2,444,933\n",
       "7        2,214,333\n",
       "8        2,147,512\n",
       "9        2,086,839\n",
       "10       1,843,020\n",
       "11       1,592,173\n",
       "12       1,503,409\n",
       "13       1,467,324\n",
       "14       1,390,941\n",
       "15       1,382,292\n",
       "16       1,299,921\n",
       "17       1,167,301\n",
       "18       1,165,818\n",
       "19       1,068,994"
      ]
     },
     "execution_count": 63,
     "metadata": {},
     "output_type": "execute_result"
    }
   ],
   "source": [
    "dollarFrame"
   ]
  },
  {
   "cell_type": "code",
   "execution_count": 48,
   "metadata": {},
   "outputs": [
    {
     "data": {
      "text/html": [
       "<div>\n",
       "<style scoped>\n",
       "    .dataframe tbody tr th:only-of-type {\n",
       "        vertical-align: middle;\n",
       "    }\n",
       "\n",
       "    .dataframe tbody tr th {\n",
       "        vertical-align: top;\n",
       "    }\n",
       "\n",
       "    .dataframe thead th {\n",
       "        text-align: right;\n",
       "    }\n",
       "</style>\n",
       "<table border=\"1\" class=\"dataframe\">\n",
       "  <thead>\n",
       "    <tr style=\"text-align: right;\">\n",
       "      <th></th>\n",
       "      <th>Email</th>\n",
       "    </tr>\n",
       "  </thead>\n",
       "  <tbody>\n",
       "    <tr>\n",
       "      <th>0</th>\n",
       "      <td>rogercr@cccgroupinc.com</td>\n",
       "    </tr>\n",
       "    <tr>\n",
       "      <th>1</th>\n",
       "      <td>mhammerlund@stromengineering.com</td>\n",
       "    </tr>\n",
       "    <tr>\n",
       "      <th>2</th>\n",
       "      <td>chris.matlosz@noralinc.com</td>\n",
       "    </tr>\n",
       "    <tr>\n",
       "      <th>3</th>\n",
       "      <td>Pierre.Parent@worleyparsons.com</td>\n",
       "    </tr>\n",
       "    <tr>\n",
       "      <th>4</th>\n",
       "      <td>adam.anderson@tparkerhost.com</td>\n",
       "    </tr>\n",
       "    <tr>\n",
       "      <th>5</th>\n",
       "      <td>mickey@rexcoinc.com</td>\n",
       "    </tr>\n",
       "    <tr>\n",
       "      <th>6</th>\n",
       "      <td>melectric@corpus.twcbc.com</td>\n",
       "    </tr>\n",
       "    <tr>\n",
       "      <th>7</th>\n",
       "      <td>antoine.berghmans@lhoist.com</td>\n",
       "    </tr>\n",
       "    <tr>\n",
       "      <th>8</th>\n",
       "      <td>orobinson@austinwhitelime.com</td>\n",
       "    </tr>\n",
       "    <tr>\n",
       "      <th>9</th>\n",
       "      <td>Tim_Hillsley@oxy.com</td>\n",
       "    </tr>\n",
       "    <tr>\n",
       "      <th>10</th>\n",
       "      <td>eburnett@southtexasvalue.com</td>\n",
       "    </tr>\n",
       "    <tr>\n",
       "      <th>11</th>\n",
       "      <td>dave.dennis@cytec.com</td>\n",
       "    </tr>\n",
       "    <tr>\n",
       "      <th>12</th>\n",
       "      <td>mike.morton@scisusa.com</td>\n",
       "    </tr>\n",
       "    <tr>\n",
       "      <th>13</th>\n",
       "      <td>bgw@spmwd.net</td>\n",
       "    </tr>\n",
       "    <tr>\n",
       "      <th>14</th>\n",
       "      <td>ddavis@nalco.com</td>\n",
       "    </tr>\n",
       "    <tr>\n",
       "      <th>15</th>\n",
       "      <td>slewis@mmrgrp.com</td>\n",
       "    </tr>\n",
       "    <tr>\n",
       "      <th>16</th>\n",
       "      <td>rharrison@ghxinc.com</td>\n",
       "    </tr>\n",
       "    <tr>\n",
       "      <th>17</th>\n",
       "      <td>paul.hensley@holtcat.com</td>\n",
       "    </tr>\n",
       "    <tr>\n",
       "      <th>18</th>\n",
       "      <td>rlopezceo@yahoo.com</td>\n",
       "    </tr>\n",
       "    <tr>\n",
       "      <th>19</th>\n",
       "      <td>james.glattly@genlp.com</td>\n",
       "    </tr>\n",
       "  </tbody>\n",
       "</table>\n",
       "</div>"
      ],
      "text/plain": [
       "                               Email\n",
       "0            rogercr@cccgroupinc.com\n",
       "1   mhammerlund@stromengineering.com\n",
       "2         chris.matlosz@noralinc.com\n",
       "3    Pierre.Parent@worleyparsons.com\n",
       "4      adam.anderson@tparkerhost.com\n",
       "5                mickey@rexcoinc.com\n",
       "6         melectric@corpus.twcbc.com\n",
       "7       antoine.berghmans@lhoist.com\n",
       "8      orobinson@austinwhitelime.com\n",
       "9               Tim_Hillsley@oxy.com\n",
       "10      eburnett@southtexasvalue.com\n",
       "11             dave.dennis@cytec.com\n",
       "12           mike.morton@scisusa.com\n",
       "13                     bgw@spmwd.net\n",
       "14                  ddavis@nalco.com\n",
       "15                 slewis@mmrgrp.com\n",
       "16              rharrison@ghxinc.com\n",
       "17          paul.hensley@holtcat.com\n",
       "18               rlopezceo@yahoo.com\n",
       "19           james.glattly@genlp.com"
      ]
     },
     "execution_count": 48,
     "metadata": {},
     "output_type": "execute_result"
    }
   ],
   "source": [
    "emailFrame"
   ]
  },
  {
   "cell_type": "code",
   "execution_count": 64,
   "metadata": {
    "scrolled": true
   },
   "outputs": [
    {
     "data": {
      "text/html": [
       "<div>\n",
       "<style scoped>\n",
       "    .dataframe tbody tr th:only-of-type {\n",
       "        vertical-align: middle;\n",
       "    }\n",
       "\n",
       "    .dataframe tbody tr th {\n",
       "        vertical-align: top;\n",
       "    }\n",
       "\n",
       "    .dataframe thead th {\n",
       "        text-align: right;\n",
       "    }\n",
       "</style>\n",
       "<table border=\"1\" class=\"dataframe\">\n",
       "  <thead>\n",
       "    <tr style=\"text-align: right;\">\n",
       "      <th></th>\n",
       "      <th>Phone</th>\n",
       "    </tr>\n",
       "  </thead>\n",
       "  <tbody>\n",
       "    <tr>\n",
       "      <th>0</th>\n",
       "      <td>302-636-4145</td>\n",
       "    </tr>\n",
       "    <tr>\n",
       "      <th>1</th>\n",
       "      <td>612-217-5651</td>\n",
       "    </tr>\n",
       "    <tr>\n",
       "      <th>2</th>\n",
       "      <td>302-636-4145</td>\n",
       "    </tr>\n",
       "    <tr>\n",
       "      <th>3</th>\n",
       "      <td>630-396-9128</td>\n",
       "    </tr>\n",
       "    <tr>\n",
       "      <th>4</th>\n",
       "      <td>920-997-1100</td>\n",
       "    </tr>\n",
       "    <tr>\n",
       "      <th>5</th>\n",
       "      <td>847-403-6836</td>\n",
       "    </tr>\n",
       "    <tr>\n",
       "      <th>6</th>\n",
       "      <td>330-628-6527</td>\n",
       "    </tr>\n",
       "    <tr>\n",
       "      <th>7</th>\n",
       "      <td>207-369-2751</td>\n",
       "    </tr>\n",
       "    <tr>\n",
       "      <th>8</th>\n",
       "      <td>513-672-2446</td>\n",
       "    </tr>\n",
       "    <tr>\n",
       "      <th>9</th>\n",
       "      <td>920-830-5199</td>\n",
       "    </tr>\n",
       "    <tr>\n",
       "      <th>10</th>\n",
       "      <td>708-460-9324</td>\n",
       "    </tr>\n",
       "    <tr>\n",
       "      <th>11</th>\n",
       "      <td>715-423-0313</td>\n",
       "    </tr>\n",
       "    <tr>\n",
       "      <th>12</th>\n",
       "      <td>205-814-0104</td>\n",
       "    </tr>\n",
       "    <tr>\n",
       "      <th>13</th>\n",
       "      <td>906-789-9130</td>\n",
       "    </tr>\n",
       "    <tr>\n",
       "      <th>14</th>\n",
       "      <td>610-882-8702</td>\n",
       "    </tr>\n",
       "    <tr>\n",
       "      <th>15</th>\n",
       "      <td>651-414-0846</td>\n",
       "    </tr>\n",
       "    <tr>\n",
       "      <th>16</th>\n",
       "      <td>920-433-1011</td>\n",
       "    </tr>\n",
       "    <tr>\n",
       "      <th>17</th>\n",
       "      <td>207-941-0839</td>\n",
       "    </tr>\n",
       "    <tr>\n",
       "      <th>18</th>\n",
       "      <td>920-734-5592</td>\n",
       "    </tr>\n",
       "  </tbody>\n",
       "</table>\n",
       "</div>"
      ],
      "text/plain": [
       "           Phone\n",
       "0   302-636-4145\n",
       "1   612-217-5651\n",
       "2   302-636-4145\n",
       "3   630-396-9128\n",
       "4   920-997-1100\n",
       "5   847-403-6836\n",
       "6   330-628-6527\n",
       "7   207-369-2751\n",
       "8   513-672-2446\n",
       "9   920-830-5199\n",
       "10  708-460-9324\n",
       "11  715-423-0313\n",
       "12  205-814-0104\n",
       "13  906-789-9130\n",
       "14  610-882-8702\n",
       "15  651-414-0846\n",
       "16  920-433-1011\n",
       "17  207-941-0839\n",
       "18  920-734-5592"
      ]
     },
     "execution_count": 64,
     "metadata": {},
     "output_type": "execute_result"
    }
   ],
   "source": [
    "phoneFrame"
   ]
  },
  {
   "cell_type": "code",
   "execution_count": null,
   "metadata": {},
   "outputs": [],
   "source": [
    "new_df = pd.DataFrame({'one':df['one'].iloc[::2].values, 'value':df['one'].iloc[1::2].values})\n",
    "new_df"
   ]
  },
  {
   "cell_type": "code",
   "execution_count": 65,
   "metadata": {},
   "outputs": [],
   "source": [
    "dollarFrame.to_clipboard(index=False)"
   ]
  },
  {
   "cell_type": "code",
   "execution_count": 56,
   "metadata": {},
   "outputs": [],
   "source": [
    "emailFrame.to_clipboard(index=False)"
   ]
  },
  {
   "cell_type": "code",
   "execution_count": 66,
   "metadata": {},
   "outputs": [],
   "source": [
    "phoneFrame.to_clipboard(index=False)"
   ]
  },
  {
   "cell_type": "code",
   "execution_count": 12,
   "metadata": {},
   "outputs": [
    {
     "data": {
      "text/plain": [
       "[('phealy@wsfsbank.com', '120,000,000.00'),\n",
       " ('investorrelations@vereit.com', '15,300,000.00'),\n",
       " ('info@proskauer.com', '5,099,562.27'),\n",
       " ('tparr@dstbs.com', '4,041,098.15'),\n",
       " ('compliancesolutions@schwab.com', '1,793,008.74'),\n",
       " ('geneosinfo@geneoswealth.com', '1,742,281.59'),\n",
       " ('info@newyorksecurity.com', '1,401,359.92'),\n",
       " ('support@wintsec.com', '1,037,332.05'),\n",
       " ('lgreen@paulweiss.com', '995,168.41'),\n",
       " ('pdavidson@paulweiss.com', '432,567.28'),\n",
       " ('orangecounty@rgp.com', '417,285.58'),\n",
       " ('--', '323,819.70'),\n",
       " ('--', '282,453.84'),\n",
       " ('--', '265,945.38'),\n",
       " ('--', '167,000.00'),\n",
       " ('--', '146,894.16'),\n",
       " ('--', '138,982.84'),\n",
       " ('--', '138,764.16'),\n",
       " ('--', '117,635.00'),\n",
       " ('--', '115,877.59')]"
      ]
     },
     "execution_count": 12,
     "metadata": {},
     "output_type": "execute_result"
    }
   ],
   "source": [
    "#zip_longest('ABCD', 'xy', fillvalue='-')\n",
    "data_tuples = list(itertools.zip_longest(emailCurrLineMatches, dollarMatches, fillvalue='--'))\n",
    "data_tuples"
   ]
  },
  {
   "cell_type": "code",
   "execution_count": 13,
   "metadata": {},
   "outputs": [],
   "source": [
    "frame = pd.DataFrame(data_tuples, columns=['Email', 'Unsecured Claim'])"
   ]
  },
  {
   "cell_type": "code",
   "execution_count": 125,
   "metadata": {},
   "outputs": [],
   "source": [
    "frame.to_clipboard()"
   ]
  },
  {
   "cell_type": "code",
   "execution_count": 78,
   "metadata": {},
   "outputs": [
    {
     "name": "stdout",
     "output_type": "stream",
     "text": [
      "['48,746.00', '83,687.00', '30,498.00', '17,299.00', '226,855.00', '18,358.00', '63,061.00', '49,278.00', '17,180.00', '28,800.00', '43,668.00', '34,124.00', '167,554.00', '22,907.00', '530,848.00', '16,939.00', '20,005.00', '35,699.00', '25,067.00', '60,975.00']\n"
     ]
    }
   ],
   "source": [
    "print(dollarMatches)\n",
    "print(emailMatches)\n",
    "print(phoneMatches)"
   ]
  }
 ],
 "metadata": {
  "kernelspec": {
   "display_name": "Python 3",
   "language": "python",
   "name": "python3"
  },
  "language_info": {
   "codemirror_mode": {
    "name": "ipython",
    "version": 3
   },
   "file_extension": ".py",
   "mimetype": "text/x-python",
   "name": "python",
   "nbconvert_exporter": "python",
   "pygments_lexer": "ipython3",
   "version": "3.6.5"
  }
 },
 "nbformat": 4,
 "nbformat_minor": 2
}

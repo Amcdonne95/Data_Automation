{
 "cells": [
  {
   "cell_type": "code",
   "execution_count": 91,
   "metadata": {},
   "outputs": [],
   "source": [
    "%matplotlib inline\n",
    "import os\n",
    "import matplotlib.pyplot as plt\n",
    "import pandas as pd\n",
    "import numpy as np\n",
    "from sklearn import preprocessing\n",
    "from sklearn.linear_model import LogisticRegression\n",
    "from sklearn.cross_validation import train_test_split\n",
    "import statsmodels.formula.api as sm\n",
    "import seaborn as sb\n",
    "dataPath = 'C:\\\\Users\\\\austi\\OneDrive - Imperial College London\\ACG\\ABS Loan Data'\n",
    "os.chdir(dataPath)"
   ]
  },
  {
   "cell_type": "code",
   "execution_count": 44,
   "metadata": {},
   "outputs": [
    {
     "data": {
      "text/html": [
       "<style>.container { width:100% !important; }</style>"
      ],
      "text/plain": [
       "<IPython.core.display.HTML object>"
      ]
     },
     "metadata": {},
     "output_type": "display_data"
    }
   ],
   "source": [
    "pd.set_option('display.max_rows', 200)\n",
    "pd.set_option('display.max_columns', 200)\n",
    "pd.set_option('display.width', 1000)\n",
    "from IPython.core.display import display, HTML\n",
    "display(HTML(\"<style>.container { width:100% !important; }</style>\"))"
   ]
  },
  {
   "cell_type": "code",
   "execution_count": 62,
   "metadata": {
    "collapsed": true
   },
   "outputs": [],
   "source": [
    "dataTapesList = os.listdir(dataPath)[0:-1]\n",
    "colList = ['assetNumber', 'reportingPeriodBeginningDate', 'originationDate', 'originalLoanTerm', 'originalInterestRatePercentage', 'subvented',\n",
    "          'vehicleManufacturerName', 'vehicleModelName', 'vehicleNewUsedCode', 'vehicleModelYear', 'vehicleTypeCode', 'obligorCreditScore',\n",
    "           'obligorIncomeVerificationLevelCode', 'obligorEmploymentVerificationCode', 'coObligorIndicator', 'paymentToIncomePercentage',\n",
    "           'obligorGeographicLocation', 'reportingPeriodBeginningLoanBalanceAmount', 'reportingPeriodActualEndBalanceAmount', 'zeroBalanceEffectiveDate', 'zeroBalanceCode', 'currentDelinquencyStatus']"
   ]
  },
  {
   "cell_type": "code",
   "execution_count": 63,
   "metadata": {},
   "outputs": [
    {
     "name": "stderr",
     "output_type": "stream",
     "text": [
      "C:\\Users\\austi\\Anaconda3\\lib\\site-packages\\IPython\\core\\interactiveshell.py:2717: DtypeWarning: Columns (17) have mixed types. Specify dtype option on import or set low_memory=False.\n",
      "  interactivity=interactivity, compiler=compiler, result=result)\n"
     ]
    }
   ],
   "source": [
    "data = pd.read_csv(dataTapesList[0], usecols=colList)"
   ]
  },
  {
   "cell_type": "code",
   "execution_count": 64,
   "metadata": {},
   "outputs": [
    {
     "name": "stdout",
     "output_type": "stream",
     "text": [
      "Number of Loans at the start of the deal:  80636\n"
     ]
    },
    {
     "data": {
      "text/html": [
       "<div>\n",
       "<style>\n",
       "    .dataframe thead tr:only-child th {\n",
       "        text-align: right;\n",
       "    }\n",
       "\n",
       "    .dataframe thead th {\n",
       "        text-align: left;\n",
       "    }\n",
       "\n",
       "    .dataframe tbody tr th {\n",
       "        vertical-align: top;\n",
       "    }\n",
       "</style>\n",
       "<table border=\"1\" class=\"dataframe\">\n",
       "  <thead>\n",
       "    <tr style=\"text-align: right;\">\n",
       "      <th></th>\n",
       "      <th>assetNumber</th>\n",
       "      <th>reportingPeriodBeginningDate</th>\n",
       "      <th>originationDate</th>\n",
       "      <th>originalLoanTerm</th>\n",
       "      <th>originalInterestRatePercentage</th>\n",
       "      <th>subvented</th>\n",
       "      <th>vehicleManufacturerName</th>\n",
       "      <th>vehicleModelName</th>\n",
       "      <th>vehicleNewUsedCode</th>\n",
       "      <th>vehicleModelYear</th>\n",
       "      <th>vehicleTypeCode</th>\n",
       "      <th>obligorCreditScore</th>\n",
       "      <th>obligorIncomeVerificationLevelCode</th>\n",
       "      <th>obligorEmploymentVerificationCode</th>\n",
       "      <th>coObligorIndicator</th>\n",
       "      <th>paymentToIncomePercentage</th>\n",
       "      <th>obligorGeographicLocation</th>\n",
       "      <th>reportingPeriodBeginningLoanBalanceAmount</th>\n",
       "      <th>reportingPeriodActualEndBalanceAmount</th>\n",
       "      <th>zeroBalanceEffectiveDate</th>\n",
       "      <th>zeroBalanceCode</th>\n",
       "      <th>currentDelinquencyStatus</th>\n",
       "    </tr>\n",
       "  </thead>\n",
       "  <tbody>\n",
       "    <tr>\n",
       "      <th>0</th>\n",
       "      <td>=\"6345520\"</td>\n",
       "      <td>06-01-2017</td>\n",
       "      <td>10/2013</td>\n",
       "      <td>72</td>\n",
       "      <td>0.1932</td>\n",
       "      <td>1</td>\n",
       "      <td>DODGE TRUCK</td>\n",
       "      <td>Journey-4 Cyl.</td>\n",
       "      <td>1</td>\n",
       "      <td>2013</td>\n",
       "      <td>3</td>\n",
       "      <td>592</td>\n",
       "      <td>2</td>\n",
       "      <td>2</td>\n",
       "      <td>False</td>\n",
       "      <td>0.139531</td>\n",
       "      <td>MI</td>\n",
       "      <td>16672.09</td>\n",
       "      <td>16258.26</td>\n",
       "      <td>-</td>\n",
       "      <td>-</td>\n",
       "      <td>0</td>\n",
       "    </tr>\n",
       "    <tr>\n",
       "      <th>1</th>\n",
       "      <td>=\"6345701\"</td>\n",
       "      <td>06-01-2017</td>\n",
       "      <td>11/2013</td>\n",
       "      <td>72</td>\n",
       "      <td>0.2499</td>\n",
       "      <td>0</td>\n",
       "      <td>FORD</td>\n",
       "      <td>Focus-4 Cyl.</td>\n",
       "      <td>2</td>\n",
       "      <td>2009</td>\n",
       "      <td>1</td>\n",
       "      <td>570</td>\n",
       "      <td>2</td>\n",
       "      <td>2</td>\n",
       "      <td>True</td>\n",
       "      <td>0.138530</td>\n",
       "      <td>SC</td>\n",
       "      <td>12151.05</td>\n",
       "      <td>12107.82</td>\n",
       "      <td>-</td>\n",
       "      <td>-</td>\n",
       "      <td>0</td>\n",
       "    </tr>\n",
       "    <tr>\n",
       "      <th>2</th>\n",
       "      <td>=\"6345822\"</td>\n",
       "      <td>06-01-2017</td>\n",
       "      <td>11/2013</td>\n",
       "      <td>60</td>\n",
       "      <td>0.2100</td>\n",
       "      <td>0</td>\n",
       "      <td>GMC</td>\n",
       "      <td>Yukon</td>\n",
       "      <td>2</td>\n",
       "      <td>2003</td>\n",
       "      <td>3</td>\n",
       "      <td>574</td>\n",
       "      <td>2</td>\n",
       "      <td>2</td>\n",
       "      <td>True</td>\n",
       "      <td>0.077623</td>\n",
       "      <td>CO</td>\n",
       "      <td>10124.13</td>\n",
       "      <td>9963.16</td>\n",
       "      <td>-</td>\n",
       "      <td>-</td>\n",
       "      <td>0</td>\n",
       "    </tr>\n",
       "    <tr>\n",
       "      <th>3</th>\n",
       "      <td>=\"6346124\"</td>\n",
       "      <td>06-01-2017</td>\n",
       "      <td>10/2013</td>\n",
       "      <td>60</td>\n",
       "      <td>0.2100</td>\n",
       "      <td>0</td>\n",
       "      <td>TOYOTA</td>\n",
       "      <td>Tundra Double Cab-V6</td>\n",
       "      <td>2</td>\n",
       "      <td>2007</td>\n",
       "      <td>2</td>\n",
       "      <td>629</td>\n",
       "      <td>3</td>\n",
       "      <td>2</td>\n",
       "      <td>True</td>\n",
       "      <td>0.114215</td>\n",
       "      <td>OK</td>\n",
       "      <td>7619.25</td>\n",
       "      <td>7277.06</td>\n",
       "      <td>-</td>\n",
       "      <td>-</td>\n",
       "      <td>8</td>\n",
       "    </tr>\n",
       "    <tr>\n",
       "      <th>4</th>\n",
       "      <td>=\"1006458\"</td>\n",
       "      <td>06-01-2017</td>\n",
       "      <td>05/2012</td>\n",
       "      <td>72</td>\n",
       "      <td>0.2499</td>\n",
       "      <td>0</td>\n",
       "      <td>Jeep</td>\n",
       "      <td>Grand Cherokee</td>\n",
       "      <td>2</td>\n",
       "      <td>2006</td>\n",
       "      <td>3</td>\n",
       "      <td>-</td>\n",
       "      <td>3</td>\n",
       "      <td>3</td>\n",
       "      <td>False</td>\n",
       "      <td>0.154751</td>\n",
       "      <td>NV</td>\n",
       "      <td>10385.66</td>\n",
       "      <td>9641.64</td>\n",
       "      <td>-</td>\n",
       "      <td>-</td>\n",
       "      <td>0</td>\n",
       "    </tr>\n",
       "  </tbody>\n",
       "</table>\n",
       "</div>"
      ],
      "text/plain": [
       "  assetNumber reportingPeriodBeginningDate originationDate  originalLoanTerm  originalInterestRatePercentage subvented vehicleManufacturerName      vehicleModelName  vehicleNewUsedCode  vehicleModelYear  vehicleTypeCode obligorCreditScore  obligorIncomeVerificationLevelCode  obligorEmploymentVerificationCode  coObligorIndicator  paymentToIncomePercentage obligorGeographicLocation  reportingPeriodBeginningLoanBalanceAmount  reportingPeriodActualEndBalanceAmount zeroBalanceEffectiveDate zeroBalanceCode  currentDelinquencyStatus\n",
       "0  =\"6345520\"                   06-01-2017         10/2013                72                          0.1932         1             DODGE TRUCK        Journey-4 Cyl.                   1              2013                3                592                                   2                                  2               False                   0.139531                        MI                                   16672.09                               16258.26                        -               -                         0\n",
       "1  =\"6345701\"                   06-01-2017         11/2013                72                          0.2499         0                    FORD          Focus-4 Cyl.                   2              2009                1                570                                   2                                  2                True                   0.138530                        SC                                   12151.05                               12107.82                        -               -                         0\n",
       "2  =\"6345822\"                   06-01-2017         11/2013                60                          0.2100         0                     GMC                 Yukon                   2              2003                3                574                                   2                                  2                True                   0.077623                        CO                                   10124.13                                9963.16                        -               -                         0\n",
       "3  =\"6346124\"                   06-01-2017         10/2013                60                          0.2100         0                  TOYOTA  Tundra Double Cab-V6                   2              2007                2                629                                   3                                  2                True                   0.114215                        OK                                    7619.25                                7277.06                        -               -                         8\n",
       "4  =\"1006458\"                   06-01-2017         05/2012                72                          0.2499         0                    Jeep        Grand Cherokee                   2              2006                3                  -                                   3                                  3               False                   0.154751                        NV                                   10385.66                                9641.64                        -               -                         0"
      ]
     },
     "execution_count": 64,
     "metadata": {},
     "output_type": "execute_result"
    }
   ],
   "source": [
    "startingNumberOfLoans = len(data.index)\n",
    "print('Number of Loans at the start of the deal: ', startingNumberOfLoans)\n",
    "data.head()"
   ]
  },
  {
   "cell_type": "code",
   "execution_count": 65,
   "metadata": {
    "scrolled": true
   },
   "outputs": [
    {
     "name": "stderr",
     "output_type": "stream",
     "text": [
      "C:\\Users\\austi\\Anaconda3\\lib\\site-packages\\IPython\\core\\interactiveshell.py:2717: DtypeWarning: Columns (17) have mixed types. Specify dtype option on import or set low_memory=False.\n",
      "  interactivity=interactivity, compiler=compiler, result=result)\n"
     ]
    }
   ],
   "source": [
    "terminatedTrackingColumns = ['assetNumber','reportingPeriodBeginningDate', 'originationDate', 'originalLoanTerm',\n",
    "                             'zeroBalanceEffectiveDate', 'zeroBalanceCode', 'currentDelinquencyStatus']\n",
    "dfTerminated = pd.DataFrame()\n",
    "for i in range(0, len(dataTapesList)):\n",
    "    data = pd.read_csv(dataTapesList[i], usecols=colList)\n",
    "    data['zeroBalanceCode'] = pd.to_numeric(data['zeroBalanceCode'], errors='coerce').fillna(0)\n",
    "    data = data[data.zeroBalanceCode.isin([1, 4])]\n",
    "    #print(data.head())\n",
    "    dfTerminated = dfTerminated.append(data)"
   ]
  },
  {
   "cell_type": "code",
   "execution_count": 66,
   "metadata": {
    "collapsed": true
   },
   "outputs": [],
   "source": [
    "dfTerminated.drop_duplicates(subset='assetNumber', keep='first', inplace=True)"
   ]
  },
  {
   "cell_type": "code",
   "execution_count": 67,
   "metadata": {},
   "outputs": [
    {
     "name": "stdout",
     "output_type": "stream",
     "text": [
      "Total Number of Loans:  80636\n",
      "Total Number of Defaults:  9264\n",
      "Loan Defualt Percentage:  0.11488665112356763\n"
     ]
    }
   ],
   "source": [
    "numberOfDefaults = dfTerminated['zeroBalanceCode'].value_counts().tolist()[0]\n",
    "print('Total Number of Loans: ', startingNumberOfLoans)\n",
    "print('Total Number of Defaults: ', numberOfDefaults)\n",
    "#print(dfTerminated['zeroBalanceCode'].value_counts())\n",
    "print('Loan Defualt Percentage: ', numberOfDefaults/startingNumberOfLoans)"
   ]
  },
  {
   "cell_type": "code",
   "execution_count": 68,
   "metadata": {},
   "outputs": [],
   "source": [
    "nonPerformingAssetNumberList = dfTerminated['assetNumber'].tolist()"
   ]
  },
  {
   "cell_type": "code",
   "execution_count": 69,
   "metadata": {},
   "outputs": [
    {
     "name": "stderr",
     "output_type": "stream",
     "text": [
      "C:\\Users\\austi\\Anaconda3\\lib\\site-packages\\IPython\\core\\interactiveshell.py:2717: DtypeWarning: Columns (17) have mixed types. Specify dtype option on import or set low_memory=False.\n",
      "  interactivity=interactivity, compiler=compiler, result=result)\n"
     ]
    }
   ],
   "source": [
    "startingPointData = pd.read_csv(dataTapesList[0], usecols=colList)\n",
    "startingPointData = startingPointData[startingPointData.assetNumber.isin(nonPerformingAssetNumberList)][['assetNumber', 'reportingPeriodBeginningLoanBalanceAmount']]\n",
    "startingPointData.rename(columns={'reportingPeriodBeginningLoanBalanceAmount': 'startingLoanBalance'}, inplace=True)"
   ]
  },
  {
   "cell_type": "code",
   "execution_count": 72,
   "metadata": {},
   "outputs": [],
   "source": [
    "dfTerminated = pd.merge(dfTerminated, startingPointData, how='inner', on='assetNumber')"
   ]
  },
  {
   "cell_type": "code",
   "execution_count": 77,
   "metadata": {
    "collapsed": true
   },
   "outputs": [],
   "source": [
    "dfTerminated['obligorCreditScore'] = pd.to_numeric(dfTerminated['obligorCreditScore'], errors='coerce').fillna(0)"
   ]
  },
  {
   "cell_type": "code",
   "execution_count": 150,
   "metadata": {},
   "outputs": [],
   "source": [
    "cleanedData = dfTerminated.drop(['assetNumber', 'reportingPeriodBeginningDate', 'originationDate', 'vehicleManufacturerName', 'subvented', 'originalLoanTerm', \n",
    "                                 'vehicleModelName', 'vehicleNewUsedCode', 'obligorIncomeVerificationLevelCode','obligorGeographicLocation', 'coObligorIndicator',\n",
    "                                 'zeroBalanceEffectiveDate', 'currentDelinquencyStatus',\n",
    "                                 'reportingPeriodActualEndBalanceAmount', 'startingLoanBalance', 'obligorEmploymentVerificationCode'], axis=1)"
   ]
  },
  {
   "cell_type": "code",
   "execution_count": 151,
   "metadata": {},
   "outputs": [],
   "source": [
    "for i in list(cleanedData.columns):\n",
    "    cleanedData[i] = pd.to_numeric(cleanedData[i], errors='coerce')\n",
    "cleanedData['zeroBalanceCode'].replace(to_replace={4:1, 1:0}, inplace=True)"
   ]
  },
  {
   "cell_type": "code",
   "execution_count": 152,
   "metadata": {},
   "outputs": [
    {
     "data": {
      "text/plain": [
       "Series([], dtype: float64)"
      ]
     },
     "execution_count": 152,
     "metadata": {},
     "output_type": "execute_result"
    }
   ],
   "source": [
    "null_columns=cleanedData.columns[cleanedData.isnull().any()]\n",
    "cleanedData[null_columns].isnull().sum()"
   ]
  },
  {
   "cell_type": "code",
   "execution_count": 157,
   "metadata": {},
   "outputs": [
    {
     "data": {
      "text/html": [
       "<div>\n",
       "<style>\n",
       "    .dataframe thead tr:only-child th {\n",
       "        text-align: right;\n",
       "    }\n",
       "\n",
       "    .dataframe thead th {\n",
       "        text-align: left;\n",
       "    }\n",
       "\n",
       "    .dataframe tbody tr th {\n",
       "        vertical-align: top;\n",
       "    }\n",
       "</style>\n",
       "<table border=\"1\" class=\"dataframe\">\n",
       "  <thead>\n",
       "    <tr style=\"text-align: right;\">\n",
       "      <th></th>\n",
       "      <th>originalInterestRatePercentage</th>\n",
       "      <th>vehicleModelYear</th>\n",
       "      <th>vehicleTypeCode</th>\n",
       "      <th>obligorCreditScore</th>\n",
       "      <th>paymentToIncomePercentage</th>\n",
       "      <th>reportingPeriodBeginningLoanBalanceAmount</th>\n",
       "      <th>zeroBalanceCode</th>\n",
       "    </tr>\n",
       "  </thead>\n",
       "  <tbody>\n",
       "    <tr>\n",
       "      <th>0</th>\n",
       "      <td>0.2100</td>\n",
       "      <td>2008</td>\n",
       "      <td>1</td>\n",
       "      <td>0.0</td>\n",
       "      <td>0.076434</td>\n",
       "      <td>8776.39</td>\n",
       "      <td>0.0</td>\n",
       "    </tr>\n",
       "    <tr>\n",
       "      <th>1</th>\n",
       "      <td>0.2400</td>\n",
       "      <td>2010</td>\n",
       "      <td>1</td>\n",
       "      <td>548.0</td>\n",
       "      <td>0.125043</td>\n",
       "      <td>4739.21</td>\n",
       "      <td>0.0</td>\n",
       "    </tr>\n",
       "    <tr>\n",
       "      <th>2</th>\n",
       "      <td>0.2499</td>\n",
       "      <td>2005</td>\n",
       "      <td>1</td>\n",
       "      <td>470.0</td>\n",
       "      <td>0.143080</td>\n",
       "      <td>4143.22</td>\n",
       "      <td>0.0</td>\n",
       "    </tr>\n",
       "    <tr>\n",
       "      <th>3</th>\n",
       "      <td>0.2410</td>\n",
       "      <td>2005</td>\n",
       "      <td>2</td>\n",
       "      <td>518.0</td>\n",
       "      <td>0.147815</td>\n",
       "      <td>2384.08</td>\n",
       "      <td>0.0</td>\n",
       "    </tr>\n",
       "    <tr>\n",
       "      <th>4</th>\n",
       "      <td>0.2499</td>\n",
       "      <td>2009</td>\n",
       "      <td>1</td>\n",
       "      <td>0.0</td>\n",
       "      <td>0.140553</td>\n",
       "      <td>4109.14</td>\n",
       "      <td>0.0</td>\n",
       "    </tr>\n",
       "  </tbody>\n",
       "</table>\n",
       "</div>"
      ],
      "text/plain": [
       "   originalInterestRatePercentage  vehicleModelYear  vehicleTypeCode  obligorCreditScore  paymentToIncomePercentage  reportingPeriodBeginningLoanBalanceAmount  zeroBalanceCode\n",
       "0                          0.2100              2008                1                 0.0                   0.076434                                    8776.39              0.0\n",
       "1                          0.2400              2010                1               548.0                   0.125043                                    4739.21              0.0\n",
       "2                          0.2499              2005                1               470.0                   0.143080                                    4143.22              0.0\n",
       "3                          0.2410              2005                2               518.0                   0.147815                                    2384.08              0.0\n",
       "4                          0.2499              2009                1                 0.0                   0.140553                                    4109.14              0.0"
      ]
     },
     "execution_count": 157,
     "metadata": {},
     "output_type": "execute_result"
    }
   ],
   "source": [
    "cleanedData.head()"
   ]
  },
  {
   "cell_type": "code",
   "execution_count": 153,
   "metadata": {},
   "outputs": [
    {
     "data": {
      "text/plain": [
       "<matplotlib.axes._subplots.AxesSubplot at 0x29abcc354e0>"
      ]
     },
     "execution_count": 153,
     "metadata": {},
     "output_type": "execute_result"
    },
    {
     "data": {
      "image/png": "[encoded data removed]",
      "text/plain": [
       "<matplotlib.figure.Figure at 0x29abbeffac8>"
      ]
     },
     "metadata": {},
     "output_type": "display_data"
    }
   ],
   "source": [
    "sb.heatmap(cleanedData.corr())"
   ]
  },
  {
   "cell_type": "code",
   "execution_count": 154,
   "metadata": {},
   "outputs": [],
   "source": [
    "X = list(cleanedData.columns)\n",
    "X = X[:-1]\n",
    "X = cleanedData[X]"
   ]
  },
  {
   "cell_type": "code",
   "execution_count": 155,
   "metadata": {
    "collapsed": true
   },
   "outputs": [],
   "source": [
    "y = cleanedData['zeroBalanceCode']"
   ]
  },
  {
   "cell_type": "code",
   "execution_count": 156,
   "metadata": {},
   "outputs": [
    {
     "name": "stdout",
     "output_type": "stream",
     "text": [
      "Optimization terminated successfully.\n",
      "         Current function value: 0.629703\n",
      "         Iterations 6\n",
      "                                      Results: Logit\n",
      "==========================================================================================\n",
      "Model:                       Logit                    Pseudo R-squared:         0.088     \n",
      "Dependent Variable:          zeroBalanceCode          AIC:                      21862.7111\n",
      "Date:                        2018-09-14 18:21         BIC:                      21909.2792\n",
      "No. Observations:            17350                    Log-Likelihood:           -10925.   \n",
      "Df Model:                    5                        LL-Null:                  -11986.   \n",
      "Df Residuals:                17344                    LLR p-value:              0.0000    \n",
      "Converged:                   1.0000                   Scale:                    1.0000    \n",
      "No. Iterations:              6.0000                                                       \n",
      "------------------------------------------------------------------------------------------\n",
      "                                           Coef.  Std.Err.    z     P>|z|   [0.025  0.975]\n",
      "------------------------------------------------------------------------------------------\n",
      "originalInterestRatePercentage            19.9449   0.5352  37.2641 0.0000 18.8959 20.9939\n",
      "vehicleModelYear                          -0.0027   0.0001 -36.4919 0.0000 -0.0028 -0.0025\n",
      "vehicleTypeCode                           -0.1989   0.0198 -10.0602 0.0000 -0.2376 -0.1601\n",
      "obligorCreditScore                         0.0006   0.0001   8.5498 0.0000  0.0005  0.0008\n",
      "paymentToIncomePercentage                  1.6784   0.4437   3.7830 0.0002  0.8088  2.5480\n",
      "reportingPeriodBeginningLoanBalanceAmount  0.0001   0.0000  26.0495 0.0000  0.0001  0.0001\n",
      "==========================================================================================\n",
      "\n"
     ]
    }
   ],
   "source": [
    "logit_model=sm.Logit(y,X)\n",
    "result=logit_model.fit()\n",
    "print(result.summary2())"
   ]
  }
 ],
 "metadata": {
  "kernelspec": {
   "display_name": "Python 3",
   "language": "python",
   "name": "python3"
  },
  "language_info": {
   "codemirror_mode": {
    "name": "ipython",
    "version": 3
   },
   "file_extension": ".py",
   "mimetype": "text/x-python",
   "name": "python",
   "nbconvert_exporter": "python",
   "pygments_lexer": "ipython3",
   "version": "3.6.1"
  }
 },
 "nbformat": 4,
 "nbformat_minor": 2
}

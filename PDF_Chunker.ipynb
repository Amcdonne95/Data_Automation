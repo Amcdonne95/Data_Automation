{
 "cells": [
  {
   "cell_type": "code",
   "execution_count": 1,
   "metadata": {},
   "outputs": [],
   "source": [
    "import pandas as pd\n",
    "import numpy as np\n",
    "import re\n",
    "import itertools\n",
    "import sys\n",
    "from re import finditer"
   ]
  },
  {
   "cell_type": "code",
   "execution_count": 42,
   "metadata": {},
   "outputs": [],
   "source": [
    "path = 'C:/Users/austinm/Documents/Text_Files/PDF_Scraper.txt'\n",
    "\n",
    "copiedText = open(path,'r')\n",
    "data = copiedText.read()\n",
    "copiedText.close\n",
    "#C:\\Users\\austinm\\Documents\\Text_Files\\PDF_Scraper.txt\n",
    "#C:/Users/austinm/Documents/Text_Files/PDF_Scraper.txt\n",
    "\n",
    "dollar_locations = []\n",
    "for match in finditer(\"\\$([0-9]{1,3},([0-9]{3},)*[0-9]{3}|[0-9]+)(.[0-9][0-9])?\", data):\n",
    "    #print(match)\n",
    "    dollar_locations.append(match.span())\n",
    "first_chunk = data[0:dollar_locations[0][1]]\n",
    "#print(first_chunk)\n",
    "dollars = []\n",
    "phoneNumbers = []\n",
    "emails = []\n",
    "names = []\n",
    "dollarMatches = re.findall(\"\\$([0-9]{1,3},([0-9]{3},)*[0-9]{3}|[0-9]+)(.[0-9][0-9])?\", first_chunk)\n",
    "phoneMatches = re.findall(\"\\d{3}.?\\d{3}.?\\d{4}|\\(\\d{3}\\).?\\d{3}.?\\d{4}\", first_chunk)\n",
    "emailMatches = re.findall(\"([\\w\\d.-]*@[\\w\\d.-]*)\", first_chunk)\n",
    "nameMatches = re.findall(\"(Name:\\s)(\\w.*)\", first_chunk)\n",
    "dollarMatches = dollarMatches[0][0] + dollarMatches[0][2]\n",
    "dollars.append(dollarMatches)\n",
    "if not phoneMatches:\n",
    "        phoneMatches = ['none']\n",
    "phoneNumbers.append(phoneMatches)\n",
    "if not emailMatches:\n",
    "    emailMatches = ['none']\n",
    "emails.append(emailMatches)\n",
    "#names.append(nameMatches[0][1])\n",
    "for i in range(1, len(dollar_locations)):\n",
    "    chunk = data[dollar_locations[i-1][1]:dollar_locations[i][1]]\n",
    "    #print(chunk)\n",
    "    dollarMatches = re.findall(\"\\$([0-9]{1,3},([0-9]{3},)*[0-9]{3}|[0-9]+)(.[0-9][0-9])?\", chunk)\n",
    "    phoneMatches = re.findall(\"\\d{3}.?\\d{3}.?\\d{4}|\\(\\d{3}\\).?\\d{3}.?\\d{4}\", chunk)\n",
    "    emailMatches = re.findall(\"([\\w\\d.-]*@[\\w\\d.-]*)\", chunk)\n",
    "    nameMatches = re.findall(\"(Name:\\s)(\\w.*)\", chunk)\n",
    "    dollarMatches = dollarMatches[0][0] + dollarMatches[0][2]\n",
    "    dollars.append(dollarMatches)\n",
    "    if not phoneMatches:\n",
    "        phoneMatches = ['none']\n",
    "    phoneNumbers.append(phoneMatches)\n",
    "    if not emailMatches:\n",
    "        emailMatches = ['none']\n",
    "    emails.append(emailMatches)\n",
    "    #names.append(nameMatches[0][1])"
   ]
  },
  {
   "cell_type": "code",
   "execution_count": 47,
   "metadata": {},
   "outputs": [],
   "source": [
    "namesFrame = pd.DataFrame(names, columns=['Names'])\n",
    "#emailFrame = pd.DataFrame(emails, columns=['Email', 'extra'])\n",
    "dollarFrame = pd.DataFrame(dollars, columns=['Unsecured Claim'])\n",
    "#phoneFrame = pd.DataFrame(phoneNumbers, columns=['Phone', 'Fax'])"
   ]
  },
  {
   "cell_type": "code",
   "execution_count": 48,
   "metadata": {},
   "outputs": [],
   "source": [
    "dollarFrame.to_clipboard(index=False)"
   ]
  },
  {
   "cell_type": "code",
   "execution_count": 24,
   "metadata": {},
   "outputs": [],
   "source": [
    "namesFrame.to_clipboard(index=False)"
   ]
  },
  {
   "cell_type": "code",
   "execution_count": 39,
   "metadata": {},
   "outputs": [],
   "source": [
    "phoneFrame[['Phone']].to_clipboard(index=False)"
   ]
  },
  {
   "cell_type": "code",
   "execution_count": 40,
   "metadata": {},
   "outputs": [],
   "source": [
    "phoneFrame[['Fax']].to_clipboard(index=False)"
   ]
  },
  {
   "cell_type": "code",
   "execution_count": 41,
   "metadata": {},
   "outputs": [],
   "source": [
    "emailFrame[['Email']].to_clipboard(index=False)"
   ]
  },
  {
   "cell_type": "code",
   "execution_count": null,
   "metadata": {},
   "outputs": [],
   "source": [
    "dataDict = {}\n"
   ]
  },
  {
   "cell_type": "code",
   "execution_count": 13,
   "metadata": {},
   "outputs": [
    {
     "name": "stdout",
     "output_type": "stream",
     "text": [
      "[('48,746', '', '.00')]\n",
      "['866-603-4774']\n"
     ]
    }
   ],
   "source": [
    "dollarMatches = re.findall(\"\\$([0-9]{1,3},([0-9]{3},)*[0-9]{3}|[0-9]+)(.[0-9][0-9])?\", first_chunk)\n",
    "print(dollarMatches)\n",
    "phoneMatches = re.findall(\"\\d{3}.?\\d{3}.?\\d{4}|\\(\\d{3}\\).?\\d{3}.?\\d{4}\", first_chunk)\n",
    "print(phoneMatches)"
   ]
  },
  {
   "cell_type": "code",
   "execution_count": 14,
   "metadata": {},
   "outputs": [
    {
     "data": {
      "text/plain": [
       "'48,746.00'"
      ]
     },
     "execution_count": 14,
     "metadata": {},
     "output_type": "execute_result"
    }
   ],
   "source": [
    "dollarMatches = dollarMatches[0][0] + dollarMatches[0][2]\n",
    "dollarMatches"
   ]
  },
  {
   "cell_type": "code",
   "execution_count": 12,
   "metadata": {},
   "outputs": [
    {
     "data": {
      "text/plain": [
       "['48,746.00']"
      ]
     },
     "execution_count": 12,
     "metadata": {},
     "output_type": "execute_result"
    }
   ],
   "source": [
    "for i in range(0, len(dollarMatches)):\n",
    "    dollarMatches[i] = dollarMatches[i][0] + dollarMatches[i][2]\n",
    "dollarMatches"
   ]
  },
  {
   "cell_type": "code",
   "execution_count": null,
   "metadata": {},
   "outputs": [],
   "source": [
    "first_chunk = data[0:dollar_locations[0][1]]\n",
    "dollarMatches = re.findall(\"\\$([0-9]{1,3},([0-9]{3},)*[0-9]{3}|[0-9]+)(.[0-9][0-9])?\", first_chunk)\n",
    "emailCurrLineMatches = re.findall(\"([\\w\\d.-]*@[\\w\\d.-]*)\", first_chunk)\n",
    "phoneMatches = re.findall(\"\\d{3}.?\\d{3}.?\\d{4}|\\(\\d{3}\\).?\\d{3}.?\\d{4}\", first_chunk)\n",
    "if not dollarMatches:\n",
    "    dollarMatches.append('none')\n",
    "if not emailCurrLineMatches:\n",
    "    emailCurrLineMatches.append('none')\n",
    "if not phoneMatches:\n",
    "    phoneMatches.append('none')\n",
    "for i in range(1, len(dollar_locations)):\n",
    "    chunk = data[dollar_locations[i-1][1]:dollar_locations[i][1]]\n",
    "    dollarMatches = re.findall(\"\\$([0-9]{1,3},([0-9]{3},)*[0-9]{3}|[0-9]+)(.[0-9][0-9])?\", chunk)\n",
    "    emailCurrLineMatches = re.findall(\"([\\w\\d.-]*@[\\w\\d.-]*)\", chunk)\n",
    "    phoneMatches = re.findall(\"\\d{3}.?\\d{3}.?\\d{4}|\\(\\d{3}\\).?\\d{3}.?\\d{4}\", chunk)\n",
    "    if not dollarMatches:\n",
    "        dollarMatches.append('none')\n",
    "    if not emailCurrLineMatches:\n",
    "        emailCurrLineMatches.append('none')\n",
    "    if not phoneMatches:\n",
    "        phoneMatches.append('none')"
   ]
  },
  {
   "cell_type": "code",
   "execution_count": null,
   "metadata": {},
   "outputs": [],
   "source": []
  },
  {
   "cell_type": "code",
   "execution_count": null,
   "metadata": {},
   "outputs": [],
   "source": []
  }
 ],
 "metadata": {
  "kernelspec": {
   "display_name": "Python 3",
   "language": "python",
   "name": "python3"
  },
  "language_info": {
   "codemirror_mode": {
    "name": "ipython",
    "version": 3
   },
   "file_extension": ".py",
   "mimetype": "text/x-python",
   "name": "python",
   "nbconvert_exporter": "python",
   "pygments_lexer": "ipython3",
   "version": "3.6.5"
  }
 },
 "nbformat": 4,
 "nbformat_minor": 2
}
